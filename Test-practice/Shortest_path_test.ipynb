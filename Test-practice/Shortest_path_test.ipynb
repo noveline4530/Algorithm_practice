{
 "cells": [
  {
   "cell_type": "markdown",
   "metadata": {},
   "source": [
    "## 37. 플로이드\n",
    "- 난이도 1.5, 핵심 유형"
   ]
  },
  {
   "cell_type": "code",
   "execution_count": 2,
   "metadata": {},
   "outputs": [
    {
     "name": "stdin",
     "output_type": "stream",
     "text": [
      " 5\n",
      " 14\n",
      " 1 2 2\n",
      " 1 3 3\n",
      " 1 4 1\n",
      " 1 5 10\n",
      " 2 4 2\n",
      " 3 4 1\n",
      " 3 5 1\n",
      " 4 5 3\n",
      " 3 5 10\n",
      " 3 1 8\n",
      " 1 4 2\n",
      " 5 1 7\n",
      " 3 4 2\n",
      " 5 2 4\n"
     ]
    },
    {
     "name": "stdout",
     "output_type": "stream",
     "text": [
      "0 2 3 1 4 \n",
      "12 0 15 2 5 \n",
      "8 5 0 1 1 \n",
      "10 7 13 0 3 \n",
      "7 4 10 6 0 \n"
     ]
    }
   ],
   "source": [
    "# 모범 답안\n",
    "INF = int(1e9)\n",
    "\n",
    "n = int(input())\n",
    "m = int(input())\n",
    "\n",
    "graph = [[INF] * (n + 1) for _ in range(n + 1)]\n",
    "\n",
    "for a in range(1, n + 1):\n",
    "    for b in range(1, n + 1):\n",
    "        if a == b:\n",
    "            graph[a][b] = 0\n",
    "            \n",
    "for _ in range(m):\n",
    "    a, b, c = map(int, input().split())\n",
    "    # 가장 짧은 간선 정보만 저장 (숨어있는 조건)\n",
    "    if c < graph[a][b]:\n",
    "        graph[a][b] = c\n",
    "\n",
    "# 점화식에 따라 플로이드 워셜 알고리즘을 수행\n",
    "for k in range(1, n + 1):\n",
    "    for a in range(1, n + 1):\n",
    "        for b in range(1, n + 1):\n",
    "            graph[a][b] = min(graph[a][b], graph[a][k] + graph[k][b])\n",
    "            \n",
    "for a in range(1, n + 1):\n",
    "    for b in range(1, n + 1):\n",
    "        if graph[a][b] == INF:\n",
    "            print(0, end=\" \")\n",
    "        else:\n",
    "            print(graph[a][b], end=\" \")\n",
    "    print()"
   ]
  },
  {
   "cell_type": "markdown",
   "metadata": {},
   "source": [
    "## 38. 정확한 순위\n",
    "- 난이도 2, K 대회"
   ]
  },
  {
   "cell_type": "code",
   "execution_count": 3,
   "metadata": {},
   "outputs": [
    {
     "name": "stdin",
     "output_type": "stream",
     "text": [
      " 6 6\n",
      " 1 5\n",
      " 3 4\n",
      " 4 2\n",
      " 4 6\n",
      " 5 2\n",
      " 5 4\n"
     ]
    },
    {
     "name": "stdout",
     "output_type": "stream",
     "text": [
      "1\n"
     ]
    }
   ],
   "source": [
    "# 모범 답안\n",
    "INF = int(1e9)\n",
    "\n",
    "n, m = map(int, input().split())\n",
    "graph = [[INF] * (n + 1) for _ in range(n + 1)]\n",
    "\n",
    "for a in range(1, n + 1):\n",
    "    for b in range(1, n + 1):\n",
    "        if a == b:\n",
    "            graph[a][b] = 0\n",
    "\n",
    "# 각 간선에 대한 정보를 입력받아, 그 값으로 초기화\n",
    "for _ in range(m):\n",
    "    # A에서 B로 가는 비용을 1로 설정\n",
    "    a, b = map(int, input().split())\n",
    "    graph[a][b] = 1\n",
    "\n",
    "# 점화식에 따라 플로이드 워셜 알고리즘을 수행\n",
    "for k in range(1, n + 1):\n",
    "    for a in range(1, n + 1):\n",
    "        for b in range(1, n + 1):\n",
    "            graph[a][b] = min(graph[a][b], graph[a][k] + graph[k][b])\n",
    "            \n",
    "result = 0\n",
    "# 각 학생을 번호에 따라 한 명씩 확인하며 도달 가능한지 체크\n",
    "for i in range(1, n + 1):\n",
    "    count = 0\n",
    "    for j in range(1, n + 1):\n",
    "        if graph[i][j] != INF or graph[j][i] != INF:\n",
    "            count += 1\n",
    "    if count == n:\n",
    "        result += 1\n",
    "\n",
    "print(result)"
   ]
  },
  {
   "cell_type": "markdown",
   "metadata": {},
   "source": [
    "## 39. 화성 탐사\n",
    "- 난이도 2, ACM-ICPC"
   ]
  },
  {
   "cell_type": "code",
   "execution_count": 4,
   "metadata": {},
   "outputs": [
    {
     "name": "stdin",
     "output_type": "stream",
     "text": [
      " 3\n",
      " 3\n",
      " 5 5 4\n",
      " 3 9 1\n",
      " 3 2 7\n"
     ]
    },
    {
     "name": "stdout",
     "output_type": "stream",
     "text": [
      "20\n"
     ]
    },
    {
     "name": "stdin",
     "output_type": "stream",
     "text": [
      " 5\n",
      " 3 7 2 0 1\n",
      " 2 8 0 9 1\n",
      " 1 2 1 8 1\n",
      " 9 8 9 2 0\n",
      " 3 6 5 1 5\n"
     ]
    },
    {
     "name": "stdout",
     "output_type": "stream",
     "text": [
      "19\n"
     ]
    },
    {
     "name": "stdin",
     "output_type": "stream",
     "text": [
      " 7\n",
      " 9 0 5 1 1 5 3\n",
      " 4 1 2 1 6 5 3\n",
      " 0 7 6 1 6 8 5\n",
      " 1 1 7 8 3 2 3\n",
      " 9 4 0 7 6 4 1\n",
      " 5 8 3 2 4 8 3\n",
      " 7 4 8 4 8 3 4\n"
     ]
    },
    {
     "name": "stdout",
     "output_type": "stream",
     "text": [
      "36\n"
     ]
    }
   ],
   "source": [
    "import heapq\n",
    "import sys\n",
    "# input = sys.stdin.readline\n",
    "INF = int(1e9) # 무한을 의미하는 값으로 10억을 설정\n",
    "\n",
    "dx = [-1, 0, 1, 0]\n",
    "dy = [0, 1, 0, -1]\n",
    "\n",
    "# 전체 테스트 케이스(Test Case)만큼 반복\n",
    "for tc in range(int(input())):\n",
    "    # 노드의 개수를 입력받기\n",
    "    n = int(input())\n",
    "    # 전체 맵 정보를 입력받기\n",
    "    graph = []\n",
    "    for i in range(n):\n",
    "        graph.append(list(map(int, input().split())))\n",
    "    \n",
    "    # 최단 거리 테이블을 모두 무한으로 초기화\n",
    "    distance = [[INF] * n for _ in range(n)]\n",
    "    \n",
    "    x, y = 0, 0 # 시작 위치는 (0, 0)\n",
    "    # 시작 노드로 가기 위한 비용은 (0, 0) 위치의 값으로 설정하여, 큐에 삽입\n",
    "    q = [(graph[x][y], x, y)]\n",
    "    distance[x][y] = graph[x][y]\n",
    "    \n",
    "    # 다익스트라 알고리즘 수행\n",
    "    while q:\n",
    "        # 가장 최단 거리가 짧은 노드에 대한 정보를 꺼내기\n",
    "        dist, x, y = heapq.heappop(q)\n",
    "        # 현재 노드가 이미 처리된 적이 있는 노드라면 무시\n",
    "        if distance[x][y] < dist:\n",
    "            continue\n",
    "        # 현재 노드와 연결된 다른 인접한 노드들을 확인\n",
    "        for i in range(4):\n",
    "            nx = x + dx[i]\n",
    "            ny = y + dy[i]\n",
    "            # 맵의 범위를 벗어나는 경우 무시\n",
    "            if nx < 0 or nx >= n or ny < 0 or ny >= n:\n",
    "                continue\n",
    "            cost = dist + graph[nx][ny]\n",
    "            # 현재 노드를 거쳐서, 다른 노드로 이동하는 거리가 더 짧은 경우\n",
    "            if cost < distance[nx][ny]:\n",
    "                distance[nx][ny] = cost\n",
    "                heapq.heappush(q, (cost, nx, ny))\n",
    "    \n",
    "    print(distance[n - 1][n - 1])"
   ]
  },
  {
   "cell_type": "markdown",
   "metadata": {},
   "source": [
    "## 40. 숨바꼭질\n",
    "- 난이도 2, USACO"
   ]
  },
  {
   "cell_type": "code",
   "execution_count": 5,
   "metadata": {},
   "outputs": [
    {
     "name": "stdin",
     "output_type": "stream",
     "text": [
      " 6 7\n",
      " 3 6\n",
      " 4 3\n",
      " 3 2\n",
      " 1 3\n",
      " 1 2\n",
      " 2 4\n",
      " 5 2\n"
     ]
    },
    {
     "name": "stdout",
     "output_type": "stream",
     "text": [
      "4 2 3\n"
     ]
    }
   ],
   "source": [
    "# 모범 답안\n",
    "import heapq\n",
    "import sys\n",
    "# input = sys.stdin.readline\n",
    "INF = int(1e9)\n",
    "\n",
    "# 노드의 개수, 간선의 개수를 입력받기\n",
    "n, m = map(int, input().split())\n",
    "# 시작 노드를 1번 헛간으로 설정\n",
    "start = 1\n",
    "# 각 노드에 연결되어 있는 노드에 대한 정보를 담는 리스트를 만들기\n",
    "graph = [[] for i in range(n + 1)]\n",
    "# 최단 거리 테이블을 모두 무한으로 초기화\n",
    "distance = [INF] * (n + 1)\n",
    "# 모든 간선 정보를 입력받기\n",
    "for _ in range(m):\n",
    "    a, b = map(int, input().split())\n",
    "    # a번 노드와 b번 노드의 이동 비용이 1이라는 의미(양방향)\n",
    "    graph[a].append((b, 1))\n",
    "    graph[b].append((a, 1))\n",
    "    \n",
    "def dijkstra(start):\n",
    "    q = []\n",
    "    # 시작 노드로 가기 위한 최단 경로는 0으로 설정하며, 큐에 삽입\n",
    "    heapq.heappush(q, (0, start))\n",
    "    distance[start] = 0\n",
    "    while q: # 큐가 비어있지 않다면\n",
    "        # 가장 최단 거리가 짧은 노드에 대한 정보를 꺼내기\n",
    "        dist, now = heapq.heappop(q)\n",
    "        # 현재 노드가 이미 처리된 적이 있는 노드라면 무시\n",
    "        if distance[now] < dist:\n",
    "            continue\n",
    "        # 현재 노드와 연결된 다른 인접한 노드들을 확인\n",
    "        for i in graph[now]:\n",
    "            cost = dist + i[1]\n",
    "            # 현재 노드를 거쳐서, 다른 노드로 이동하는 거리가 더 짧은 경우\n",
    "            if cost < distance[i[0]]:\n",
    "                distance[i[0]] = cost\n",
    "                heapq.heappush(q, (cost, i[0]))\n",
    "                \n",
    "# 다익스트라 알고리즘 수행\n",
    "dijkstra(start)\n",
    "\n",
    "# 최단 거리가 가장 먼 노드 번호(동빈이가 숨을 헛간의 번호)\n",
    "max_node = 0\n",
    "# 도달할 수 있는 노드 중에서, 최단 거리가 가장 먼 노드와의 최단 거리\n",
    "max_distance = 0\n",
    "# 최단 거리가 가장 먼 노드와의 최단 거리가 동일한 최단 거리를 가지는 노드들의 리스트\n",
    "result = []\n",
    "\n",
    "for i in range(1, n + 1):\n",
    "    if max_distance < distance[i]:\n",
    "        max_node = i\n",
    "        max_distance = distance[i]\n",
    "        result = [max_node]\n",
    "    elif max_distance == distance[i]:\n",
    "        result.append(i)\n",
    "\n",
    "print(max_node, max_distance, len(result))"
   ]
  }
 ],
 "metadata": {
  "kernelspec": {
   "display_name": "Python 3",
   "language": "python",
   "name": "python3"
  },
  "language_info": {
   "codemirror_mode": {
    "name": "ipython",
    "version": 3
   },
   "file_extension": ".py",
   "mimetype": "text/x-python",
   "name": "python",
   "nbconvert_exporter": "python",
   "pygments_lexer": "ipython3",
   "version": "3.6.5"
  }
 },
 "nbformat": 4,
 "nbformat_minor": 4
}
