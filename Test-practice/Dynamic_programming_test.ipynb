{
 "cells": [
  {
   "cell_type": "markdown",
   "metadata": {},
   "source": [
    "## 31. 금광\n",
    "- 난이도 1.5, Flipkart 인터뷰"
   ]
  },
  {
   "cell_type": "code",
   "execution_count": null,
   "metadata": {},
   "outputs": [],
   "source": [
    "#### 모범 답안\n",
    "# 테스트 케이스(Test Case) 입력\n",
    "for tc in range(int(input())):\n",
    "    # 금광 정보 입력\n",
    "    n, m = map(int, input().split())\n",
    "    array = list(map(int, input().split()))\n",
    "    \n",
    "    # 다이나믹 프로그래밍을 위한 2차원 DP 테이블 초기화\n",
    "    dp = []\n",
    "    index = 0\n",
    "    for i in range(n):\n",
    "        dp.append(array[index:index + m])\n",
    "        index += m\n",
    "        \n",
    "    # 다이나믹 프로그래밍 진행\n",
    "    for j in range(1, m):\n",
    "        for i in range(n):\n",
    "            # 왼쪽 위에서 오는 경우\n",
    "            if i == 0:\n",
    "                left_up = 0\n",
    "            else:\n",
    "                left_up = dp[i - 1][j - 1]\n",
    "            # 왼쪽 아래에서 오는 경우\n",
    "            if i == n - 1:\n",
    "                left_down = 0\n",
    "            else:\n",
    "                left_down = dp[i + 1][j - 1]\n",
    "            # 왼쪽에서 오는 경우\n",
    "            left = dp[i][j - 1]\n",
    "            dp[i][j] = dp[i][j] + max(left_up, left_down, left)\n",
    "            \n",
    "    result = 0\n",
    "    for i in range(n):\n",
    "        result = max(result, dp[i][m - 1])\n",
    "        \n",
    "    print(result)"
   ]
  },
  {
   "cell_type": "markdown",
   "metadata": {},
   "source": [
    "## 32. 정수 삼각형\n",
    "- 난이도 1.5, IOI 1994년도"
   ]
  },
  {
   "cell_type": "code",
   "execution_count": 3,
   "metadata": {},
   "outputs": [
    {
     "name": "stdin",
     "output_type": "stream",
     "text": [
      " 5\n",
      " 7\n",
      " 3 8\n",
      " 8 1 0\n",
      " 2 7 4 4\n",
      " 4 5 2 6 5\n"
     ]
    },
    {
     "name": "stdout",
     "output_type": "stream",
     "text": [
      "30\n"
     ]
    }
   ],
   "source": [
    "# 내 답안\n",
    "n = int(input())\n",
    "\n",
    "dp = []\n",
    "\n",
    "for _ in range(n):\n",
    "    array = list(map(int, input().split()))\n",
    "    dp.append(array)\n",
    "\n",
    "for i in range(1, n):\n",
    "    for j in range(i + 1):\n",
    "        if j == 0:\n",
    "            dp[i][j] = dp[i][j] + dp[i-1][j]\n",
    "        elif j == i:\n",
    "            dp[i][j] = dp[i][j] + dp[i-1][j-1]\n",
    "        else:\n",
    "            dp[i][j] = dp[i][j] + max(dp[i-1][j-1], dp[i-1][j])\n",
    "\n",
    "result = 0\n",
    "for i in range(n):\n",
    "    result = max(result, dp[n-1][i])\n",
    "    \n",
    "print(result)          "
   ]
  },
  {
   "cell_type": "code",
   "execution_count": 4,
   "metadata": {},
   "outputs": [
    {
     "name": "stdin",
     "output_type": "stream",
     "text": [
      " 5\n",
      " 7\n",
      " 3 8\n",
      " 8 1 0\n",
      " 2 7 4 4\n",
      " 4 5 2 6 5\n"
     ]
    },
    {
     "name": "stdout",
     "output_type": "stream",
     "text": [
      "30\n"
     ]
    }
   ],
   "source": [
    "# 모범 답안\n",
    "n = int(input())\n",
    "dp = []\n",
    "\n",
    "for _ in range(n):\n",
    "    dp.append(list(map(int, input().split())))\n",
    "    \n",
    "for i in range(1, n):\n",
    "    for j in range(i + 1):\n",
    "        # 왼쪽 위에서 내려오는 경우\n",
    "        if j == 0:\n",
    "            up_left = 0\n",
    "        else:\n",
    "            up_left = dp[i - 1][j - 1]\n",
    "        # 바로 위에서 내려오는 경우\n",
    "        if j == i:\n",
    "            up = 0\n",
    "        else:\n",
    "            up = dp[i -1][j]\n",
    "        # 최대 합을 저장\n",
    "        dp[i][j] = dp[i][j] + max(up_left, up)\n",
    "        \n",
    "print(max(dp[n - 1]))"
   ]
  },
  {
   "cell_type": "code",
   "execution_count": null,
   "metadata": {},
   "outputs": [],
   "source": []
  }
 ],
 "metadata": {
  "kernelspec": {
   "display_name": "Python 3",
   "language": "python",
   "name": "python3"
  },
  "language_info": {
   "codemirror_mode": {
    "name": "ipython",
    "version": 3
   },
   "file_extension": ".py",
   "mimetype": "text/x-python",
   "name": "python",
   "nbconvert_exporter": "python",
   "pygments_lexer": "ipython3",
   "version": "3.6.5"
  }
 },
 "nbformat": 4,
 "nbformat_minor": 4
}
