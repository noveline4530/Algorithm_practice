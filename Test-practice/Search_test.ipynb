{
 "cells": [
  {
   "cell_type": "markdown",
   "metadata": {},
   "source": [
    "## 27. 정렬된 배열에서 특정 수의 개수 구하기\n",
    "- 난이도 2, Zoho 인터뷰"
   ]
  },
  {
   "cell_type": "code",
   "execution_count": 4,
   "metadata": {},
   "outputs": [
    {
     "name": "stdin",
     "output_type": "stream",
     "text": [
      " 7 2\n",
      " 1 1 2 2 2 2 3\n"
     ]
    },
    {
     "name": "stdout",
     "output_type": "stream",
     "text": [
      "4\n"
     ]
    }
   ],
   "source": [
    "# 모범 답안 예시 1.\n",
    "# 정렬된 수열에서 값이 x인 원소의 개수를 세는 메서드\n",
    "def count_by_value(array, x):\n",
    "    # 데이터의 개수\n",
    "    n = len(array)\n",
    "    \n",
    "    # X가 처음 등장한 인덱스 계산\n",
    "    a = first(array, x, 0, n - 1)\n",
    "    \n",
    "    # 수열에 x가 존재하지 않는 경우\n",
    "    if a == None:\n",
    "        return 0 # 값이 x인 원소의 개수는 0개이므로 0 반환\n",
    "    \n",
    "    # x가 마지막으로 등장한 인덱스 계산\n",
    "    b = last(array, x, 0, n - 1)\n",
    "    \n",
    "    # 개수를 반환\n",
    "    return b - a + 1\n",
    "\n",
    "# 처음 위치를 찾는 이진 탐색 메서드\n",
    "def first(array, target, start, end):\n",
    "    if start > end:\n",
    "        return None\n",
    "    mid = (start + end) // 2\n",
    "    # 해당 값을 가지는 원소 중에서 가장 왼쪽에 있는 경우에만 인덱스 반환\n",
    "    if (mid == 0 or target > array[mid - 1]) and array[mid] == target:\n",
    "        return mid\n",
    "    # 중간점의 값 보다 찾고자 하는 값이 작거나 같은 경우 왼쪽 확인\n",
    "    elif array[mid] >= target:\n",
    "        return first(array, target, start, mid - 1)\n",
    "    # 중간점의 값 보다 찾고자 하는 값이 큰 경우 오른쪽 확인\n",
    "    else:\n",
    "        return first(array, target, mid + 1, end)\n",
    "    \n",
    "# 마지막 위치를 찾는 이진 탐색 메서드\n",
    "def last(array, target, start, end):\n",
    "    if start > end:\n",
    "        return None\n",
    "    mid = (start + end) // 2\n",
    "    # 해당 값을 가지는 원소 중에서 가장 오른쪽에 있는 경우에만 인덱스 반환\n",
    "    if (mid == n - 1 or target < array[mid + 1]) and array[mid] == target:\n",
    "        return mid\n",
    "    # 중간점의 값 보다 찾고자 하는 값이 작은 경우 왼쪽 확인\n",
    "    elif array[mid] > target:\n",
    "        return last(array, target, start, mid - 1)\n",
    "    # 중간점의 값 보다 찾고자 하는 값이 크거나 같은 경우 오른쪽 확인\n",
    "    else:\n",
    "        return last(array, target, mid + 1, end)\n",
    "\n",
    "n, x = map(int, input().split())\n",
    "array = list(map(int, input().split()))\n",
    "\n",
    "# 값이 x인 데이터의 개수 계산\n",
    "count = count_by_value(array, x)\n",
    "\n",
    "if count == 0:\n",
    "    print(-1)\n",
    "else:\n",
    "    print(count)"
   ]
  },
  {
   "cell_type": "code",
   "execution_count": 5,
   "metadata": {},
   "outputs": [
    {
     "name": "stdin",
     "output_type": "stream",
     "text": [
      " 7 2\n",
      " 1 1 2 2 2 2 3\n"
     ]
    },
    {
     "name": "stdout",
     "output_type": "stream",
     "text": [
      "4\n"
     ]
    }
   ],
   "source": [
    "# 모범 답안 예시 2.\n",
    "from bisect import bisect_left, bisect_right\n",
    "\n",
    "# 값이 [left_value, right_value]인 데이터의 개수를 반환하는 함수\n",
    "def count_by_range(array, left_value, right_value):\n",
    "    right_index = bisect_right(array, right_value)\n",
    "    left_index = bisect_left(array, left_value)\n",
    "    return right_index - left_index\n",
    "\n",
    "n, x = map(int, input().split()) \n",
    "array = list(map(int, input().split()))\n",
    "\n",
    "count = count_by_range(array, x, x)\n",
    "\n",
    "if count == 0:\n",
    "    print(-1)\n",
    "else:\n",
    "    print(count)"
   ]
  },
  {
   "cell_type": "markdown",
   "metadata": {},
   "source": [
    "## 28. 고정점 찾기\n",
    "- 난이도 1.5, Amazon 인터뷰"
   ]
  },
  {
   "cell_type": "code",
   "execution_count": 7,
   "metadata": {},
   "outputs": [
    {
     "name": "stdin",
     "output_type": "stream",
     "text": [
      " 5\n",
      " -15 -6 1 3 7\n"
     ]
    },
    {
     "name": "stdout",
     "output_type": "stream",
     "text": [
      "3\n"
     ]
    }
   ],
   "source": [
    "# 모범 답안\n",
    "# 이진 탐색 소스코드 구현(재귀함수)\n",
    "def binary_search(array, start, end):\n",
    "    if start > end:\n",
    "        return None\n",
    "    mid = (start + end) // 2\n",
    "    # 고정점을 찾은 경우 인덱스 반환\n",
    "    if array[mid] == mid:\n",
    "        return mid\n",
    "    # 중간점이 가리키는 위치의 값보다 중간점이 작은 경우 왼쪽 확인\n",
    "    elif array[mid] > mid:\n",
    "        return binary_search(array, start, mid - 1)\n",
    "    # 중간점이 가리키는 위치의 값보다 중간점이 큰 경우 오른쪽 확인\n",
    "    else:\n",
    "        return binary_search(array, mid + 1, end)\n",
    "    \n",
    "n = int(input())\n",
    "array = list(map(int, input().split()))\n",
    "\n",
    "# 이진 탐색(Binary Search) 수행\n",
    "index = binary_search(array, 0, n - 1)\n",
    "\n",
    "if index == None:\n",
    "    print(-1)\n",
    "else:\n",
    "    print(index)"
   ]
  },
  {
   "cell_type": "code",
   "execution_count": null,
   "metadata": {},
   "outputs": [],
   "source": []
  }
 ],
 "metadata": {
  "kernelspec": {
   "display_name": "Python 3",
   "language": "python",
   "name": "python3"
  },
  "language_info": {
   "codemirror_mode": {
    "name": "ipython",
    "version": 3
   },
   "file_extension": ".py",
   "mimetype": "text/x-python",
   "name": "python",
   "nbconvert_exporter": "python",
   "pygments_lexer": "ipython3",
   "version": "3.6.5"
  }
 },
 "nbformat": 4,
 "nbformat_minor": 4
}
