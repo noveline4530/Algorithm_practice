{
 "cells": [
  {
   "cell_type": "markdown",
   "metadata": {},
   "source": [
    "## 27. 정렬된 배열에서 특정 수의 개수 구하기\n",
    "- 난이도 2, Zoho 인터뷰"
   ]
  },
  {
   "cell_type": "code",
   "execution_count": 4,
   "metadata": {},
   "outputs": [
    {
     "name": "stdin",
     "output_type": "stream",
     "text": [
      " 7 2\n",
      " 1 1 2 2 2 2 3\n"
     ]
    },
    {
     "name": "stdout",
     "output_type": "stream",
     "text": [
      "4\n"
     ]
    }
   ],
   "source": [
    "# 모범 답안 예시 1.\n",
    "# 정렬된 수열에서 값이 x인 원소의 개수를 세는 메서드\n",
    "def count_by_value(array, x):\n",
    "    # 데이터의 개수\n",
    "    n = len(array)\n",
    "    \n",
    "    # X가 처음 등장한 인덱스 계산\n",
    "    a = first(array, x, 0, n - 1)\n",
    "    \n",
    "    # 수열에 x가 존재하지 않는 경우\n",
    "    if a == None:\n",
    "        return 0 # 값이 x인 원소의 개수는 0개이므로 0 반환\n",
    "    \n",
    "    # x가 마지막으로 등장한 인덱스 계산\n",
    "    b = last(array, x, 0, n - 1)\n",
    "    \n",
    "    # 개수를 반환\n",
    "    return b - a + 1\n",
    "\n",
    "# 처음 위치를 찾는 이진 탐색 메서드\n",
    "def first(array, target, start, end):\n",
    "    if start > end:\n",
    "        return None\n",
    "    mid = (start + end) // 2\n",
    "    # 해당 값을 가지는 원소 중에서 가장 왼쪽에 있는 경우에만 인덱스 반환\n",
    "    if (mid == 0 or target > array[mid - 1]) and array[mid] == target:\n",
    "        return mid\n",
    "    # 중간점의 값 보다 찾고자 하는 값이 작거나 같은 경우 왼쪽 확인\n",
    "    elif array[mid] >= target:\n",
    "        return first(array, target, start, mid - 1)\n",
    "    # 중간점의 값 보다 찾고자 하는 값이 큰 경우 오른쪽 확인\n",
    "    else:\n",
    "        return first(array, target, mid + 1, end)\n",
    "    \n",
    "# 마지막 위치를 찾는 이진 탐색 메서드\n",
    "def last(array, target, start, end):\n",
    "    if start > end:\n",
    "        return None\n",
    "    mid = (start + end) // 2\n",
    "    # 해당 값을 가지는 원소 중에서 가장 오른쪽에 있는 경우에만 인덱스 반환\n",
    "    if (mid == n - 1 or target < array[mid + 1]) and array[mid] == target:\n",
    "        return mid\n",
    "    # 중간점의 값 보다 찾고자 하는 값이 작은 경우 왼쪽 확인\n",
    "    elif array[mid] > target:\n",
    "        return last(array, target, start, mid - 1)\n",
    "    # 중간점의 값 보다 찾고자 하는 값이 크거나 같은 경우 오른쪽 확인\n",
    "    else:\n",
    "        return last(array, target, mid + 1, end)\n",
    "\n",
    "n, x = map(int, input().split())\n",
    "array = list(map(int, input().split()))\n",
    "\n",
    "# 값이 x인 데이터의 개수 계산\n",
    "count = count_by_value(array, x)\n",
    "\n",
    "if count == 0:\n",
    "    print(-1)\n",
    "else:\n",
    "    print(count)"
   ]
  },
  {
   "cell_type": "code",
   "execution_count": 5,
   "metadata": {},
   "outputs": [
    {
     "name": "stdin",
     "output_type": "stream",
     "text": [
      " 7 2\n",
      " 1 1 2 2 2 2 3\n"
     ]
    },
    {
     "name": "stdout",
     "output_type": "stream",
     "text": [
      "4\n"
     ]
    }
   ],
   "source": [
    "# 모범 답안 예시 2.\n",
    "from bisect import bisect_left, bisect_right\n",
    "\n",
    "# 값이 [left_value, right_value]인 데이터의 개수를 반환하는 함수\n",
    "def count_by_range(array, left_value, right_value):\n",
    "    right_index = bisect_right(array, right_value)\n",
    "    left_index = bisect_left(array, left_value)\n",
    "    return right_index - left_index\n",
    "\n",
    "n, x = map(int, input().split()) \n",
    "array = list(map(int, input().split()))\n",
    "\n",
    "count = count_by_range(array, x, x)\n",
    "\n",
    "if count == 0:\n",
    "    print(-1)\n",
    "else:\n",
    "    print(count)"
   ]
  },
  {
   "cell_type": "markdown",
   "metadata": {},
   "source": [
    "## 28. 고정점 찾기\n",
    "- 난이도 1.5, Amazon 인터뷰"
   ]
  },
  {
   "cell_type": "code",
   "execution_count": 7,
   "metadata": {},
   "outputs": [
    {
     "name": "stdin",
     "output_type": "stream",
     "text": [
      " 5\n",
      " -15 -6 1 3 7\n"
     ]
    },
    {
     "name": "stdout",
     "output_type": "stream",
     "text": [
      "3\n"
     ]
    }
   ],
   "source": [
    "# 모범 답안\n",
    "# 이진 탐색 소스코드 구현(재귀함수)\n",
    "def binary_search(array, start, end):\n",
    "    if start > end:\n",
    "        return None\n",
    "    mid = (start + end) // 2\n",
    "    # 고정점을 찾은 경우 인덱스 반환\n",
    "    if array[mid] == mid:\n",
    "        return mid\n",
    "    # 중간점이 가리키는 위치의 값보다 중간점이 작은 경우 왼쪽 확인\n",
    "    elif array[mid] > mid:\n",
    "        return binary_search(array, start, mid - 1)\n",
    "    # 중간점이 가리키는 위치의 값보다 중간점이 큰 경우 오른쪽 확인\n",
    "    else:\n",
    "        return binary_search(array, mid + 1, end)\n",
    "    \n",
    "n = int(input())\n",
    "array = list(map(int, input().split()))\n",
    "\n",
    "# 이진 탐색(Binary Search) 수행\n",
    "index = binary_search(array, 0, n - 1)\n",
    "\n",
    "if index == None:\n",
    "    print(-1)\n",
    "else:\n",
    "    print(index)"
   ]
  },
  {
   "cell_type": "markdown",
   "metadata": {},
   "source": [
    "## 29. 공유기 설치\n",
    "- 난이도 2, 핵심 유형"
   ]
  },
  {
   "cell_type": "code",
   "execution_count": 13,
   "metadata": {},
   "outputs": [
    {
     "name": "stdin",
     "output_type": "stream",
     "text": [
      " 5 3\n",
      " 1\n",
      " 2\n",
      " 8\n",
      " 4\n",
      " 9\n"
     ]
    },
    {
     "name": "stdout",
     "output_type": "stream",
     "text": [
      "3\n"
     ]
    }
   ],
   "source": [
    "# 집의 개수(N)와 공유기의 개수(C)을 입력받기\n",
    "n, c = list(map(int, input().split(' ')))\n",
    "\n",
    "# 전체 집의 좌표 정보를 입력받기\n",
    "array = []\n",
    "for _ in range(n):\n",
    "    array.append(int(input()))\n",
    "array.sort() # 이진 탐색 수행을 위해 정렬 수행\n",
    "\n",
    "start = array[1] - array[0] # 집의 좌표 중에 가장 작은 값\n",
    "end = array[-1] - array[0]  # 집의 좌표 중에 가장 큰 값\n",
    "result = 0\n",
    "\n",
    "while(start <= end):\n",
    "    mid = (start + end) // 2 # mid는 가장 인접한 두 공유기 사이의 거리(gap)를 의미\n",
    "    value = array[0]\n",
    "    count = 1\n",
    "    # 현재의 mid값을 이용해 공유기를 설치\n",
    "    for i in range(1, n): # 앞에서부터 차근차근 설치\n",
    "        if array[i] >= value + mid:\n",
    "            value = array[i]\n",
    "            count += 1\n",
    "    if count >= c: # C개 이상의 공유기를 설치할 수 있는 경우, 거리를 증가\n",
    "        start = mid + 1\n",
    "        result = mid # 최적의 결과를 저장\n",
    "    else: # C개 이상의 공유기를 설치할 수 없는 경우, 거리를 감소\n",
    "        end = mid - 1\n",
    "    \n",
    "print(result)"
   ]
  },
  {
   "cell_type": "markdown",
   "metadata": {},
   "source": [
    "## 30. 가사 검색\n",
    "- 난이도 3, 2020 카카오 신입 공채 1차"
   ]
  },
  {
   "cell_type": "code",
   "execution_count": 14,
   "metadata": {},
   "outputs": [],
   "source": [
    "# 이 코드는 다음 프로그래머스 사이트에서 테스트해야 정상 작동한다.\n",
    "# https://programmers.co.kr/learn/courses/30/lessons/60060\n",
    "\n",
    "# 모범 답안\n",
    "from bisect import bisect_left, bisect_right\n",
    "\n",
    "# 값이 [left_value, right_value]인 데이터의 개수를 반환하는 함수\n",
    "def count_by_range(a, left_value, right_value):\n",
    "    right_index = bisect_right(a, right_value)\n",
    "    left_index = bisect_left(a, left_value)\n",
    "    return right_index - left_index\n",
    "\n",
    "# 모든 단어를 길이마다 나누어서 저장하기 위한 리스트\n",
    "array = [[] for _ in range(10001)]\n",
    "# 모든 단어를 길이마다 나누어서 뒤집어 저장하기 위한 리스트\n",
    "reversed_array = [[] for _ in range(10001)]\n",
    "\n",
    "def solution(words, queries):\n",
    "    answer = []\n",
    "    for word in words: # 모든 단어를 접미사 와일드카드 배열, 접두사 와일드카드 배열에 각각 삽입\n",
    "        array[len(word)].append(word) # 단어를 삽입\n",
    "        reversed_array[len(word)].append(word[::-1]) # 단어를 뒤집어서 삽입\n",
    "    \n",
    "    for i in range(10001): # 이진 탐색을 수행하기 위해 각 단어 리스트 정렬 수행\n",
    "        array[i].sort()\n",
    "        reversed_array[i].sort()\n",
    "        \n",
    "    for q in queries: # 쿼리를 하나씩 확인하며 처리\n",
    "        if q[0] != '?': # 접미사에 와일드카드가 붙은 경우\n",
    "            res = count_by_range(array[len(q)], q.replace('?', 'a'), q.replace('?', 'z'))\n",
    "        else: # 접두사에 와일드카드가 붙은 경우\n",
    "            res = count_by_range(reversed_array[len(q)], q[::-1].replace('?', 'a'), q[::-1].replace('?', 'z'))\n",
    "        # 검색된 단어의 개수를 저장\n",
    "        answer.append(res)\n",
    "    return answer"
   ]
  }
 ],
 "metadata": {
  "kernelspec": {
   "display_name": "Python 3",
   "language": "python",
   "name": "python3"
  },
  "language_info": {
   "codemirror_mode": {
    "name": "ipython",
    "version": 3
   },
   "file_extension": ".py",
   "mimetype": "text/x-python",
   "name": "python",
   "nbconvert_exporter": "python",
   "pygments_lexer": "ipython3",
   "version": "3.6.5"
  }
 },
 "nbformat": 4,
 "nbformat_minor": 4
}
