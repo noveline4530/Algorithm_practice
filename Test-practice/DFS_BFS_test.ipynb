{
 "cells": [
  {
   "cell_type": "markdown",
   "metadata": {},
   "source": [
    "## 15. 특정 거리의 도시 찾기\n",
    "- 난이도 1.5, 핵심 유형"
   ]
  },
  {
   "cell_type": "code",
   "execution_count": 1,
   "metadata": {},
   "outputs": [
    {
     "name": "stdin",
     "output_type": "stream",
     "text": [
      " 4 4 2 1\n",
      " 1 2\n",
      " 1 3\n",
      " 2 3\n",
      " 2 4\n"
     ]
    },
    {
     "name": "stdout",
     "output_type": "stream",
     "text": [
      "4\n"
     ]
    }
   ],
   "source": [
    "# 모범 답안\n",
    "from collections import deque\n",
    "\n",
    "n, m, k, x = map(int, input().split())\n",
    "graph = [[] for _ in range(n + 1)]\n",
    "\n",
    "for _ in range(m):\n",
    "    a, b = map(int, input().split())\n",
    "    graph[a].append(b)\n",
    "\n",
    "distance = [-1] * (n + 1)\n",
    "distance[x] = 0\n",
    "\n",
    "# 너비 우선 탐색(BFS) 수행\n",
    "q = deque([x])\n",
    "while q:\n",
    "    now = q.popleft()\n",
    "    for next_node in graph[now]:\n",
    "        if distance[next_node] == -1:\n",
    "            distance[next_node] = distance[now] + 1\n",
    "            q.append(next_node)\n",
    "\n",
    "check = False\n",
    "for i in range(1, n + 1):\n",
    "    if distance[i] == k:\n",
    "        print(i)\n",
    "        check = True\n",
    "\n",
    "if check == False:\n",
    "    print(-1)"
   ]
  },
  {
   "cell_type": "markdown",
   "metadata": {},
   "source": [
    "## 16. 연구소\n",
    "- 난이도 2, 삼성전자 SW 역량테스트"
   ]
  },
  {
   "cell_type": "code",
   "execution_count": 2,
   "metadata": {},
   "outputs": [
    {
     "name": "stdin",
     "output_type": "stream",
     "text": [
      " 7 7\n",
      " 2 0 0 0 1 1 0\n",
      " 0 0 1 0 1 2 0\n",
      " 0 1 1 0 1 0 0\n",
      " 0 1 0 0 0 0 0\n",
      " 0 0 0 0 0 1 1\n",
      " 0 1 0 0 0 0 0\n",
      " 0 1 0 0 0 0 0\n"
     ]
    },
    {
     "name": "stdout",
     "output_type": "stream",
     "text": [
      "27\n"
     ]
    }
   ],
   "source": [
    "# 모범 답안\n",
    "n, m = map(int, input().split())\n",
    "data = []\n",
    "temp = [[0] * m for _ in range(n)]\n",
    "\n",
    "for _ in range(n):\n",
    "    data.append(list(map(int, input().split())))\n",
    "    \n",
    "dx = [-1, 0, 1, 0]\n",
    "dy = [0, 1, 0, -1]\n",
    "\n",
    "result = 0\n",
    "\n",
    "# 깊이 우선 탐색(DFS)을 이용해 각 바이러스가 사방으로 퍼지도록 하기\n",
    "def virus(x, y):\n",
    "    for i in range(4):\n",
    "        nx = x + dx[i]\n",
    "        ny = y + dy[i]\n",
    "        # 상, 하, 좌, 우 중에서 바이러스가 퍼질 수 있는 경우\n",
    "        if nx >= 0 and nx < n and ny >= 0 and ny < m:\n",
    "            if temp[nx][ny] == 0:\n",
    "                # 해당 위치에 바이러스 배치하고, 다시 재귀적으로 수행\n",
    "                temp[nx][ny] = 2\n",
    "                virus(nx, ny)\n",
    "                \n",
    "# 현재 맵에서 안전 영역의 크기 계산하는 메서드\n",
    "def get_score():\n",
    "    score = 0\n",
    "    for i in range(n):\n",
    "        for j in range(m):\n",
    "            if temp[i][j] == 0:\n",
    "                score += 1\n",
    "    return score\n",
    "\n",
    "# 깊이 우선 탐색(DFS)을 이용해 울타리를 설치하면서, 매번 안전 영역의 크기 계산\n",
    "def dfs(count):\n",
    "    global result\n",
    "    # 울타리가 3개 설치된 경우\n",
    "    if count == 3:\n",
    "        for i in range(n):\n",
    "            for j in range(m):\n",
    "                temp[i][j] = data[i][j]\n",
    "        # 각 바이러스의 위치에서 전파 진행\n",
    "        for i in range(n):\n",
    "            for j in range(m):\n",
    "                if temp[i][j] == 2:\n",
    "                    virus(i, j)\n",
    "        # 안전 영역의 최댓값 계산\n",
    "        result = max(result, get_score())\n",
    "        return\n",
    "    # 빈 공간에 울타리 설치\n",
    "    for i in range(n):\n",
    "        for j in range(m):\n",
    "            if data[i][j] == 0:\n",
    "                data[i][j] = 1\n",
    "                count += 1\n",
    "                dfs(count)\n",
    "                data[i][j] = 0\n",
    "                count -= 1\n",
    "                \n",
    "dfs(0)\n",
    "print(result)               "
   ]
  },
  {
   "cell_type": "markdown",
   "metadata": {},
   "source": [
    "## 17. 경쟁적 전염\n",
    "- 난이도 2, 핵심 유형"
   ]
  },
  {
   "cell_type": "code",
   "execution_count": 1,
   "metadata": {},
   "outputs": [
    {
     "name": "stdin",
     "output_type": "stream",
     "text": [
      " 3 3\n",
      " 1 0 2\n",
      " 0 0 0\n",
      " 3 0 0\n",
      " 2 3 2\n"
     ]
    },
    {
     "name": "stdout",
     "output_type": "stream",
     "text": [
      "3\n"
     ]
    }
   ],
   "source": [
    "# 모범 답안\n",
    "from collections import deque\n",
    "\n",
    "n, k = map(int, input().split())\n",
    "\n",
    "graph = [] # 전체 보드 정보를 담는 리스트\n",
    "data = [] # 바이러스에 대한 정보를 담는 리스트\n",
    "\n",
    "for i in range(n):\n",
    "    # 보드 정보를 한 줄 단위로 입력\n",
    "    graph.append(list(map(int, input().split())))\n",
    "    for j in range(n):\n",
    "        # 해당 위치에 바이러스가 존재하는 경우\n",
    "        if graph[i][j] != 0:\n",
    "            # (바이러스 종류, 시간, 위치 X, 위치 Y) 삽입\n",
    "            data.append((graph[i][j], 0, i, j))\n",
    "            \n",
    "# 정렬 이후에 큐로 옮기기(낮은 번호의 바이러스가 먼저 종식하므로)\n",
    "data.sort()\n",
    "q = deque(data)\n",
    "\n",
    "target_s, target_x, target_y = map(int, input().split())\n",
    "\n",
    "# 바이러스가 퍼져나갈 수 있는 4가지 위치\n",
    "dx = [-1, 0, 1, 0]\n",
    "dy = [0, 1, 0, -1]\n",
    "\n",
    "# 너비 우선 탐색(BFS) 진행\n",
    "while q:\n",
    "    virus, s, x, y = q.popleft()\n",
    "    # 정확히 s초가 지나거나, 큐가 빌 때까지 반복\n",
    "    if s == target_s:\n",
    "        break\n",
    "    # 현재 노드에서 주변 4가지 위치를 각각 확인\n",
    "    for i in range(4):\n",
    "        nx = x + dx[i]\n",
    "        ny = y + dy[i]\n",
    "        # 해당 위치로 이동할 수 있는 경우\n",
    "        if 0 <= nx and nx < n and 0 <= ny and ny < n:\n",
    "            # 아직 방문하지 않은 위치라면, 그 위치에 바이러스 넣기\n",
    "            if graph[nx][ny] == 0:\n",
    "                graph[nx][ny] = virus\n",
    "                q.append((virus, s + 1, nx, ny))\n",
    "                \n",
    "print(graph[target_x -1][target_y - 1])"
   ]
  },
  {
   "cell_type": "markdown",
   "metadata": {},
   "source": [
    "## 18. 괄호 변환\n",
    "- 난이도 1, 2020 카카오 신입 공채 1차"
   ]
  },
  {
   "cell_type": "code",
   "execution_count": 2,
   "metadata": {},
   "outputs": [],
   "source": [
    "# 모범 답안\n",
    "# 이 코드는 다음 프로그래머스 사이트에서 테스트해야 정상 작동한다.\n",
    "# https://programmers.co.kr/learn/courses/30/lessons/60058\n",
    "    \n",
    "# \"균형잡힌 괄호 문자열\"의 인덱스 반환\n",
    "def balanced_index(p):\n",
    "    count = 0 # 왼쪽 괄호의 개수\n",
    "    for i in range(len(p)):\n",
    "        if p[i] == '(':\n",
    "            count += 1\n",
    "        else:\n",
    "            count -= 1\n",
    "        if count == 0:\n",
    "            return i\n",
    "\n",
    "# \"올바른 괄호 문자열\"인지 판단\n",
    "def check_proper(p):\n",
    "    count = 0 # 왼쪽 괄호의 개수\n",
    "    for i in p:\n",
    "        if i == '(':\n",
    "            count += 1\n",
    "        else:\n",
    "            if count == 0: # 쌍이 맞지 않는 경우에 False 반환\n",
    "                return False\n",
    "            count -= 1\n",
    "    return True # 쌍이 맞는 경우에 True 반환\n",
    "\n",
    "def solution(p):\n",
    "    answer = ''\n",
    "    if p == '':\n",
    "        return answer\n",
    "    index = balanced_index(p)\n",
    "    u = p[:index + 1]\n",
    "    v = p[index + 1:]\n",
    "    # \"올바른 괄호 문자열\"이면, v에 대해 함수를 수행한 결과를 붙여 반환\n",
    "    if check_proper(u):\n",
    "        answer = u + solution(v)\n",
    "    # \"올바른 괄호 문자열\"이 아니라면 아래의 과정을 수행\n",
    "    else:\n",
    "        answer = '('\n",
    "        answer += solution(v)\n",
    "        answer += ')'\n",
    "        u = list(u[1:-1]) # 첫 번째와 마지막 문자를 제거\n",
    "        for i in range(len(u)):\n",
    "            if u[i] == '(':\n",
    "                u[i] = ')'\n",
    "            else:\n",
    "                u[i] = '('\n",
    "        answer += \"\".join(u)\n",
    "    return answer"
   ]
  },
  {
   "cell_type": "markdown",
   "metadata": {},
   "source": [
    "## 19. 연산자 끼워 넣기\n",
    "- 난이도 2, 삼성전자 SW 역량테스트"
   ]
  },
  {
   "cell_type": "code",
   "execution_count": 1,
   "metadata": {},
   "outputs": [
    {
     "name": "stdin",
     "output_type": "stream",
     "text": [
      " 3\n",
      " 3 4 5\n",
      " 1 0 1 0\n"
     ]
    },
    {
     "name": "stdout",
     "output_type": "stream",
     "text": [
      "35\n",
      "17\n"
     ]
    }
   ],
   "source": [
    "# 모범 답안\n",
    "n = int(input())\n",
    "# 연산을 수행하고자 하는 수 리스트\n",
    "data = list(map(int, input().split()))\n",
    "# 더하기, 빼기, 곱하기, 나누기 연산자 개수\n",
    "add, sub, mul, div = map(int, input().split())\n",
    "\n",
    "# 최솟값과 최댓값 초기화\n",
    "min_value = 1e9\n",
    "max_value = -1e9\n",
    "\n",
    "# 깊이 우선 탐색(DFS) 메서드\n",
    "def dfs(i, now):\n",
    "    global min_value, max_value, add, sub, mul, div\n",
    "    # 모든 연산자를 다 사용한 경우, 최솟값과 최댓값 업데이트\n",
    "    if i == n:\n",
    "        min_value = min(min_value, now)\n",
    "        max_value = max(max_value, now)\n",
    "    else:\n",
    "        # 각 연산자에 대하여 재귀적으로 수행\n",
    "        if add > 0:\n",
    "            add -= 1\n",
    "            dfs(i + 1, now + data[i])\n",
    "            add += 1\n",
    "        if sub > 0:\n",
    "            sub -= 1\n",
    "            dfs(i + 1, now - data[i])\n",
    "            sub += 1\n",
    "        if mul > 0:\n",
    "            mul -= 1\n",
    "            dfs(i + 1, now * data[i])\n",
    "            mul += 1\n",
    "        if div > 0:\n",
    "            div -= 1\n",
    "            dfs(i + 1, int(now / data[i])) # 나눌 때는 나머지를 제거\n",
    "            div += 1\n",
    "            \n",
    "# DFS 메서드 호출\n",
    "dfs(1, data[0])\n",
    "\n",
    "# 최댓값과 최솟값 차례대로 출력\n",
    "print(max_value)\n",
    "print(min_value)"
   ]
  },
  {
   "cell_type": "markdown",
   "metadata": {},
   "source": [
    "## 20. 감시 피하기\n",
    "- 난이도 2.5, 핵심 유형"
   ]
  },
  {
   "cell_type": "code",
   "execution_count": 2,
   "metadata": {},
   "outputs": [
    {
     "name": "stdin",
     "output_type": "stream",
     "text": [
      " 5\n",
      " X S X X T\n",
      " T X S X X\n",
      " X X X X X\n",
      " X T X X X\n",
      " X X T X X\n"
     ]
    },
    {
     "name": "stdout",
     "output_type": "stream",
     "text": [
      "YES\n"
     ]
    }
   ],
   "source": [
    "# 모범 답안\n",
    "from itertools import combinations\n",
    "\n",
    "n = int(input()) # 복도의 크기\n",
    "board = [] # 복도 정보(N x N)\n",
    "teachers = [] # 모든 선생님 위치 정보\n",
    "spaces = [] # 모든 빈 공간 위치 정보\n",
    "\n",
    "for i in range(n):\n",
    "    board.append(list(input().split()))\n",
    "    for j in range(n):\n",
    "        # 선생님이 존재하는 위치 저장\n",
    "        if board[i][j] == 'T':\n",
    "            teachers.append((i, j))\n",
    "        # 장애물을 설치할 수 있는 (빈 공간) 위치 저장\n",
    "        if board[i][j] == 'X':\n",
    "            spaces.append((i, j))\n",
    "\n",
    "# 특정 방향으로 감시를 진행(학생 발견: True, 학생 미발견:False)\n",
    "def watch(x, y, direction):\n",
    "    # 왼쪽 방향으로 감시\n",
    "    if direction == 0:\n",
    "        while y >= 0:\n",
    "            if board[x][y] == 'S': # 학생이 있는 경우\n",
    "                return True\n",
    "            if board[x][y] == 'O': # 장애물이 있는 경우\n",
    "                return False\n",
    "            y -= 1\n",
    "    # 오른쪽 방향으로 감시\n",
    "    if direction == 1:\n",
    "        while y < n:\n",
    "            if board[x][y] == 'S':\n",
    "                return True\n",
    "            if board[x][y] == 'O':\n",
    "                return False\n",
    "            y += 1\n",
    "    # 위쪽 방향으로 감시\n",
    "    if direction == 2:\n",
    "        while x >= 0:\n",
    "            if board[x][y] == 'S':\n",
    "                return True\n",
    "            if board[x][y] == 'O':\n",
    "                return False\n",
    "            x -= 1\n",
    "    # 아래쪽 방향으로 감시\n",
    "    if direction == 3:\n",
    "        while x < n:\n",
    "            if board[x][y] == 'S':\n",
    "                return True\n",
    "            if board[x][y] == 'O':\n",
    "                return False\n",
    "            x += 1\n",
    "    return False\n",
    "\n",
    "# 장애물 설치 이후에, 한 명이라도 학생이 감지되는지 검사\n",
    "def process():\n",
    "    # 모든 선생님의 위치를 하나씩 확인\n",
    "    for x, y in teachers:\n",
    "        # 4가지 방향으로 학생을 감지할 수 있는지 확인\n",
    "        for i in range(4):\n",
    "            if watch(x, y, i):\n",
    "                return True\n",
    "    return False\n",
    "\n",
    "find = False # 학생이 한 명도 감지되지 않도록 설치할 수 있는지의 여부\n",
    "\n",
    "# 빈 공간에서 3개를 뽑는 모든 조합을 확인\n",
    "for data in combinations(spaces, 3):\n",
    "    # 장애물 설치해보기\n",
    "    for x, y in data:\n",
    "        board[x][y] = 'O'\n",
    "    # 학생이 한 명도 감지되지 않는 경우\n",
    "    if not process():\n",
    "        # 원하는 경우를 발견한 것임\n",
    "        find = True\n",
    "        break\n",
    "    # 설치된 장애물을 다시 없애기\n",
    "    for x, y in data:\n",
    "        board[x][y] = 'X'\n",
    "        \n",
    "if find:\n",
    "    print('YES')\n",
    "else:\n",
    "    print('NO')"
   ]
  },
  {
   "cell_type": "code",
   "execution_count": null,
   "metadata": {},
   "outputs": [],
   "source": []
  }
 ],
 "metadata": {
  "kernelspec": {
   "display_name": "Python 3",
   "language": "python",
   "name": "python3"
  },
  "language_info": {
   "codemirror_mode": {
    "name": "ipython",
    "version": 3
   },
   "file_extension": ".py",
   "mimetype": "text/x-python",
   "name": "python",
   "nbconvert_exporter": "python",
   "pygments_lexer": "ipython3",
   "version": "3.6.5"
  }
 },
 "nbformat": 4,
 "nbformat_minor": 4
}
