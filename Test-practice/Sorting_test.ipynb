{
 "cells": [
  {
   "cell_type": "markdown",
   "metadata": {},
   "source": [
    "## 23. 국영수\n",
    "- 난이도 1, 핵심 유형"
   ]
  },
  {
   "cell_type": "code",
   "execution_count": 1,
   "metadata": {},
   "outputs": [
    {
     "name": "stdin",
     "output_type": "stream",
     "text": [
      " 4\n",
      " Junkyu 50 60 100\n",
      " Sangkeun 80 60 50\n",
      " Sunyoung 80 70 100\n",
      " Soong 50 60 90\n"
     ]
    },
    {
     "name": "stdout",
     "output_type": "stream",
     "text": [
      "Sangkeun\n",
      "Sunyoung\n",
      "Junkyu\n",
      "Soong\n"
     ]
    }
   ],
   "source": [
    "n = int(input())\n",
    "students = []\n",
    "\n",
    "# 모든 학생 정보를 입력받기\n",
    "for _ in range(n):\n",
    "    students.append(input().split())\n",
    "\n",
    "# 순서에 맞게 정렬\n",
    "students.sort(key=lambda x: (-int(x[1]), int(x[2]), -int(x[3]), x[0]))\n",
    "\n",
    "# 정렬된 학생 정보에서 이름만 출력\n",
    "for student in students:\n",
    "    print(student[0])"
   ]
  },
  {
   "cell_type": "markdown",
   "metadata": {},
   "source": [
    "## 24. 안테나\n",
    "- 난이도 1, 2019 SW 마에스트로 입학 테스트"
   ]
  },
  {
   "cell_type": "code",
   "execution_count": 10,
   "metadata": {},
   "outputs": [
    {
     "name": "stdin",
     "output_type": "stream",
     "text": [
      " 4\n",
      " 5 1 7 9\n"
     ]
    },
    {
     "name": "stdout",
     "output_type": "stream",
     "text": [
      "5\n"
     ]
    }
   ],
   "source": [
    "# 내 답안\n",
    "n = int(input())\n",
    "data = list(map(int, input().split()))\n",
    "group = []\n",
    "\n",
    "for i in range(1, max(data) + 1):\n",
    "    distance = 0\n",
    "    for house in data:\n",
    "        distance += abs(i - house)\n",
    "    group.append((distance, i))\n",
    "    \n",
    "group.sort()\n",
    "print(group[0][1])"
   ]
  },
  {
   "cell_type": "code",
   "execution_count": 12,
   "metadata": {},
   "outputs": [
    {
     "name": "stdin",
     "output_type": "stream",
     "text": [
      " 4\n",
      " 5 1 7 9\n"
     ]
    },
    {
     "name": "stdout",
     "output_type": "stream",
     "text": [
      "5\n"
     ]
    }
   ],
   "source": [
    "# 모범 답안\n",
    "n = int(input())\n",
    "data = list(map(int, input().split()))\n",
    "data.sort()\n",
    "\n",
    "# 중간값(median)을 출력\n",
    "print(data[(n - 1) // 2])"
   ]
  },
  {
   "cell_type": "code",
   "execution_count": null,
   "metadata": {},
   "outputs": [],
   "source": []
  }
 ],
 "metadata": {
  "kernelspec": {
   "display_name": "Python 3",
   "language": "python",
   "name": "python3"
  },
  "language_info": {
   "codemirror_mode": {
    "name": "ipython",
    "version": 3
   },
   "file_extension": ".py",
   "mimetype": "text/x-python",
   "name": "python",
   "nbconvert_exporter": "python",
   "pygments_lexer": "ipython3",
   "version": "3.6.5"
  }
 },
 "nbformat": 4,
 "nbformat_minor": 4
}
